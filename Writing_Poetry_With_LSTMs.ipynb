{
  "nbformat": 4,
  "nbformat_minor": 0,
  "metadata": {
    "colab": {
      "name": "Untitled11.ipynb",
      "provenance": [],
      "authorship_tag": "ABX9TyOy29lfIJ7dQcA4dTIPAJBx",
      "include_colab_link": true
    },
    "kernelspec": {
      "name": "python3",
      "display_name": "Python 3"
    },
    "accelerator": "GPU"
  },
  "cells": [
    {
      "cell_type": "markdown",
      "metadata": {
        "id": "view-in-github",
        "colab_type": "text"
      },
      "source": [
        "<a href=\"https://colab.research.google.com/github/deathstar1/Machine-Learning-Notebooks/blob/main/Writing_Poetry_With_LSTMs.ipynb\" target=\"_parent\"><img src=\"https://colab.research.google.com/assets/colab-badge.svg\" alt=\"Open In Colab\"/></a>"
      ]
    },
    {
      "cell_type": "code",
      "metadata": {
        "id": "uLaWwI1v6-Id"
      },
      "source": [
        "from tensorflow.keras.preprocessing.sequence import pad_sequences\r\n",
        "from tensorflow.keras.layers import Embedding, LSTM, Dense, Dropout, Bidirectional\r\n",
        "from tensorflow.keras.preprocessing.text import Tokenizer\r\n",
        "from tensorflow.keras.models import Sequential\r\n",
        "from tensorflow.keras.optimizers import Adam\r\n",
        "from tensorflow.keras import regularizers\r\n",
        "import tensorflow.keras.utils as ku \r\n",
        "import numpy as np "
      ],
      "execution_count": 1,
      "outputs": []
    },
    {
      "cell_type": "code",
      "metadata": {
        "colab": {
          "base_uri": "https://localhost:8080/"
        },
        "id": "ZgzZLppX6_z4",
        "outputId": "c16c5292-6b14-4f2d-db57-213e51a4ddac"
      },
      "source": [
        "tokenizer = Tokenizer()\r\n",
        "!wget --no-check-certificate \\\r\n",
        "    https://storage.googleapis.com/laurencemoroney-blog.appspot.com/sonnets.txt \\\r\n",
        "    -O /tmp/sonnets.txt\r\n",
        "data = open('/tmp/sonnets.txt').read()\r\n",
        "\r\n",
        "corpus = data.lower().split(\"\\n\")\r\n",
        "\r\n",
        "\r\n",
        "tokenizer.fit_on_texts(corpus)\r\n",
        "total_words = len(tokenizer.word_index) + 1\r\n",
        "print(total_words)\r\n",
        "# create input sequences using list of tokens\r\n",
        "input_sequences = []\r\n",
        "for line in corpus:\r\n",
        "\ttoken_list = tokenizer.texts_to_sequences([line])[0]\r\n",
        "\tfor i in range(1, len(token_list)):\r\n",
        "\t\tn_gram_sequence = token_list[:i+1]\r\n",
        "\t\tinput_sequences.append(n_gram_sequence)\r\n",
        "\r\n",
        "\r\n",
        "# pad sequences \r\n",
        "max_sequence_len = max([len(x) for x in input_sequences])\r\n",
        "input_sequences = np.array(pad_sequences(input_sequences, maxlen=max_sequence_len, padding='pre'))\r\n",
        "\r\n",
        "# create predictors and label\r\n",
        "predictors, label = input_sequences[:,:-1],input_sequences[:,-1]\r\n",
        "\r\n",
        "label = ku.to_categorical(label, num_classes=total_words)"
      ],
      "execution_count": 2,
      "outputs": [
        {
          "output_type": "stream",
          "text": [
            "--2021-01-09 11:41:19--  https://storage.googleapis.com/laurencemoroney-blog.appspot.com/sonnets.txt\n",
            "Resolving storage.googleapis.com (storage.googleapis.com)... 74.125.142.128, 74.125.20.128, 74.125.195.128, ...\n",
            "Connecting to storage.googleapis.com (storage.googleapis.com)|74.125.142.128|:443... connected.\n",
            "HTTP request sent, awaiting response... 200 OK\n",
            "Length: 93578 (91K) [text/plain]\n",
            "Saving to: ‘/tmp/sonnets.txt’\n",
            "\n",
            "\r/tmp/sonnets.txt      0%[                    ]       0  --.-KB/s               \r/tmp/sonnets.txt    100%[===================>]  91.38K  --.-KB/s    in 0.001s  \n",
            "\n",
            "2021-01-09 11:41:20 (144 MB/s) - ‘/tmp/sonnets.txt’ saved [93578/93578]\n",
            "\n",
            "3211\n"
          ],
          "name": "stdout"
        }
      ]
    },
    {
      "cell_type": "code",
      "metadata": {
        "colab": {
          "base_uri": "https://localhost:8080/"
        },
        "id": "Lr4EHOjJ7N10",
        "outputId": "ddce56a9-ce7e-4053-a168-d8fc147bb95c"
      },
      "source": [
        "model = Sequential()\r\n",
        "model.add(Embedding(total_words, 100, input_length=max_sequence_len-1))\r\n",
        "model.add(Bidirectional(LSTM(150, return_sequences = True)))\r\n",
        "model.add(Dropout(0.2))\r\n",
        "model.add(LSTM(100))\r\n",
        "model.add(Dense(total_words/2, activation='relu', kernel_regularizer=regularizers.l2(0.01)))\r\n",
        "model.add(Dense(total_words, activation='softmax'))\r\n",
        "model.compile(loss='categorical_crossentropy', optimizer='adam', metrics=['accuracy'])\r\n",
        "print(model.summary())"
      ],
      "execution_count": 3,
      "outputs": [
        {
          "output_type": "stream",
          "text": [
            "Model: \"sequential\"\n",
            "_________________________________________________________________\n",
            "Layer (type)                 Output Shape              Param #   \n",
            "=================================================================\n",
            "embedding (Embedding)        (None, 10, 100)           321100    \n",
            "_________________________________________________________________\n",
            "bidirectional (Bidirectional (None, 10, 300)           301200    \n",
            "_________________________________________________________________\n",
            "dropout (Dropout)            (None, 10, 300)           0         \n",
            "_________________________________________________________________\n",
            "lstm_1 (LSTM)                (None, 100)               160400    \n",
            "_________________________________________________________________\n",
            "dense (Dense)                (None, 1605)              162105    \n",
            "_________________________________________________________________\n",
            "dense_1 (Dense)              (None, 3211)              5156866   \n",
            "=================================================================\n",
            "Total params: 6,101,671\n",
            "Trainable params: 6,101,671\n",
            "Non-trainable params: 0\n",
            "_________________________________________________________________\n",
            "None\n"
          ],
          "name": "stdout"
        }
      ]
    },
    {
      "cell_type": "code",
      "metadata": {
        "colab": {
          "base_uri": "https://localhost:8080/"
        },
        "id": "hcujS8r47ROe",
        "outputId": "25e9409d-c98d-485d-c683-2b2e80c57dd5"
      },
      "source": [
        " history = model.fit(predictors, label, epochs=100, verbose=1)"
      ],
      "execution_count": 4,
      "outputs": [
        {
          "output_type": "stream",
          "text": [
            "Epoch 1/100\n",
            "484/484 [==============================] - 15s 12ms/step - loss: 7.3424 - accuracy: 0.0219\n",
            "Epoch 2/100\n",
            "484/484 [==============================] - 5s 11ms/step - loss: 6.4798 - accuracy: 0.0219\n",
            "Epoch 3/100\n",
            "484/484 [==============================] - 5s 11ms/step - loss: 6.3819 - accuracy: 0.0237\n",
            "Epoch 4/100\n",
            "484/484 [==============================] - 6s 11ms/step - loss: 6.2508 - accuracy: 0.0283\n",
            "Epoch 5/100\n",
            "484/484 [==============================] - 6s 11ms/step - loss: 6.1855 - accuracy: 0.0366\n",
            "Epoch 6/100\n",
            "484/484 [==============================] - 5s 11ms/step - loss: 6.1180 - accuracy: 0.0371\n",
            "Epoch 7/100\n",
            "484/484 [==============================] - 5s 11ms/step - loss: 5.9962 - accuracy: 0.0398\n",
            "Epoch 8/100\n",
            "484/484 [==============================] - 5s 11ms/step - loss: 5.9160 - accuracy: 0.0442\n",
            "Epoch 9/100\n",
            "484/484 [==============================] - 5s 11ms/step - loss: 5.8186 - accuracy: 0.0483\n",
            "Epoch 10/100\n",
            "484/484 [==============================] - 5s 11ms/step - loss: 5.7280 - accuracy: 0.0579\n",
            "Epoch 11/100\n",
            "484/484 [==============================] - 5s 11ms/step - loss: 5.6030 - accuracy: 0.0585\n",
            "Epoch 12/100\n",
            "484/484 [==============================] - 5s 11ms/step - loss: 5.4738 - accuracy: 0.0708\n",
            "Epoch 13/100\n",
            "484/484 [==============================] - 5s 11ms/step - loss: 5.3560 - accuracy: 0.0795\n",
            "Epoch 14/100\n",
            "484/484 [==============================] - 5s 11ms/step - loss: 5.3350 - accuracy: 0.0805\n",
            "Epoch 15/100\n",
            "484/484 [==============================] - 5s 11ms/step - loss: 5.1598 - accuracy: 0.0972\n",
            "Epoch 16/100\n",
            "484/484 [==============================] - 5s 11ms/step - loss: 5.0687 - accuracy: 0.0967\n",
            "Epoch 17/100\n",
            "484/484 [==============================] - 5s 11ms/step - loss: 4.9614 - accuracy: 0.1117\n",
            "Epoch 18/100\n",
            "484/484 [==============================] - 5s 11ms/step - loss: 4.8653 - accuracy: 0.1170\n",
            "Epoch 19/100\n",
            "484/484 [==============================] - 6s 11ms/step - loss: 4.7460 - accuracy: 0.1276\n",
            "Epoch 20/100\n",
            "484/484 [==============================] - 6s 11ms/step - loss: 4.6522 - accuracy: 0.1365\n",
            "Epoch 21/100\n",
            "484/484 [==============================] - 5s 11ms/step - loss: 4.5197 - accuracy: 0.1510\n",
            "Epoch 22/100\n",
            "484/484 [==============================] - 5s 11ms/step - loss: 4.4358 - accuracy: 0.1631\n",
            "Epoch 23/100\n",
            "484/484 [==============================] - 5s 11ms/step - loss: 4.2993 - accuracy: 0.1770\n",
            "Epoch 24/100\n",
            "484/484 [==============================] - 5s 11ms/step - loss: 4.2349 - accuracy: 0.1851\n",
            "Epoch 25/100\n",
            "484/484 [==============================] - 5s 11ms/step - loss: 4.1277 - accuracy: 0.1980\n",
            "Epoch 26/100\n",
            "484/484 [==============================] - 5s 11ms/step - loss: 3.9987 - accuracy: 0.2115\n",
            "Epoch 27/100\n",
            "484/484 [==============================] - 5s 11ms/step - loss: 3.9186 - accuracy: 0.2292\n",
            "Epoch 28/100\n",
            "484/484 [==============================] - 5s 11ms/step - loss: 3.7874 - accuracy: 0.2474\n",
            "Epoch 29/100\n",
            "484/484 [==============================] - 5s 11ms/step - loss: 3.7005 - accuracy: 0.2693\n",
            "Epoch 30/100\n",
            "484/484 [==============================] - 5s 11ms/step - loss: 3.5876 - accuracy: 0.2876\n",
            "Epoch 31/100\n",
            "484/484 [==============================] - 5s 11ms/step - loss: 3.4938 - accuracy: 0.3065\n",
            "Epoch 32/100\n",
            "484/484 [==============================] - 6s 11ms/step - loss: 3.3937 - accuracy: 0.3258\n",
            "Epoch 33/100\n",
            "484/484 [==============================] - 5s 11ms/step - loss: 3.3199 - accuracy: 0.3454\n",
            "Epoch 34/100\n",
            "484/484 [==============================] - 5s 11ms/step - loss: 3.1918 - accuracy: 0.3747\n",
            "Epoch 35/100\n",
            "484/484 [==============================] - 5s 11ms/step - loss: 3.0928 - accuracy: 0.3983\n",
            "Epoch 36/100\n",
            "484/484 [==============================] - 5s 11ms/step - loss: 3.0171 - accuracy: 0.4115\n",
            "Epoch 37/100\n",
            "484/484 [==============================] - 5s 11ms/step - loss: 2.9611 - accuracy: 0.4303\n",
            "Epoch 38/100\n",
            "484/484 [==============================] - 5s 11ms/step - loss: 2.8775 - accuracy: 0.4470\n",
            "Epoch 39/100\n",
            "484/484 [==============================] - 5s 11ms/step - loss: 2.8020 - accuracy: 0.4678\n",
            "Epoch 40/100\n",
            "484/484 [==============================] - 5s 11ms/step - loss: 2.7143 - accuracy: 0.4819\n",
            "Epoch 41/100\n",
            "484/484 [==============================] - 5s 11ms/step - loss: 2.6860 - accuracy: 0.4888\n",
            "Epoch 42/100\n",
            "484/484 [==============================] - 5s 11ms/step - loss: 2.5852 - accuracy: 0.5086\n",
            "Epoch 43/100\n",
            "484/484 [==============================] - 5s 11ms/step - loss: 2.5630 - accuracy: 0.5131\n",
            "Epoch 44/100\n",
            "484/484 [==============================] - 5s 11ms/step - loss: 2.4946 - accuracy: 0.5351\n",
            "Epoch 45/100\n",
            "484/484 [==============================] - 5s 11ms/step - loss: 2.4825 - accuracy: 0.5368\n",
            "Epoch 46/100\n",
            "484/484 [==============================] - 5s 11ms/step - loss: 2.3809 - accuracy: 0.5585\n",
            "Epoch 47/100\n",
            "484/484 [==============================] - 5s 11ms/step - loss: 2.3452 - accuracy: 0.5709\n",
            "Epoch 48/100\n",
            "484/484 [==============================] - 5s 11ms/step - loss: 2.2566 - accuracy: 0.5887\n",
            "Epoch 49/100\n",
            "484/484 [==============================] - 5s 11ms/step - loss: 2.2153 - accuracy: 0.5914\n",
            "Epoch 50/100\n",
            "484/484 [==============================] - 5s 11ms/step - loss: 2.1784 - accuracy: 0.6051\n",
            "Epoch 51/100\n",
            "484/484 [==============================] - 5s 11ms/step - loss: 2.1268 - accuracy: 0.6148\n",
            "Epoch 52/100\n",
            "484/484 [==============================] - 5s 11ms/step - loss: 2.0840 - accuracy: 0.6237\n",
            "Epoch 53/100\n",
            "484/484 [==============================] - 5s 11ms/step - loss: 2.0575 - accuracy: 0.6245\n",
            "Epoch 54/100\n",
            "484/484 [==============================] - 5s 11ms/step - loss: 1.9855 - accuracy: 0.6428\n",
            "Epoch 55/100\n",
            "484/484 [==============================] - 5s 11ms/step - loss: 2.0017 - accuracy: 0.6403\n",
            "Epoch 56/100\n",
            "484/484 [==============================] - 5s 11ms/step - loss: 1.9217 - accuracy: 0.6611\n",
            "Epoch 57/100\n",
            "484/484 [==============================] - 5s 11ms/step - loss: 1.9130 - accuracy: 0.6623\n",
            "Epoch 58/100\n",
            "484/484 [==============================] - 5s 11ms/step - loss: 1.8647 - accuracy: 0.6744\n",
            "Epoch 59/100\n",
            "484/484 [==============================] - 5s 11ms/step - loss: 1.8118 - accuracy: 0.6830\n",
            "Epoch 60/100\n",
            "484/484 [==============================] - 5s 11ms/step - loss: 1.7907 - accuracy: 0.6850\n",
            "Epoch 61/100\n",
            "484/484 [==============================] - 5s 11ms/step - loss: 1.7859 - accuracy: 0.6853\n",
            "Epoch 62/100\n",
            "484/484 [==============================] - 5s 11ms/step - loss: 1.7577 - accuracy: 0.6894\n",
            "Epoch 63/100\n",
            "484/484 [==============================] - 5s 11ms/step - loss: 1.6762 - accuracy: 0.7075\n",
            "Epoch 64/100\n",
            "484/484 [==============================] - 5s 11ms/step - loss: 1.6398 - accuracy: 0.7159\n",
            "Epoch 65/100\n",
            "484/484 [==============================] - 5s 11ms/step - loss: 1.6580 - accuracy: 0.7174\n",
            "Epoch 66/100\n",
            "484/484 [==============================] - 5s 11ms/step - loss: 1.6189 - accuracy: 0.7215\n",
            "Epoch 67/100\n",
            "484/484 [==============================] - 5s 11ms/step - loss: 1.6086 - accuracy: 0.7224\n",
            "Epoch 68/100\n",
            "484/484 [==============================] - 5s 11ms/step - loss: 1.5774 - accuracy: 0.7240\n",
            "Epoch 69/100\n",
            "484/484 [==============================] - 5s 11ms/step - loss: 1.5272 - accuracy: 0.7358\n",
            "Epoch 70/100\n",
            "484/484 [==============================] - 5s 11ms/step - loss: 1.5376 - accuracy: 0.7395\n",
            "Epoch 71/100\n",
            "484/484 [==============================] - 5s 11ms/step - loss: 1.4937 - accuracy: 0.7439\n",
            "Epoch 72/100\n",
            "484/484 [==============================] - 5s 11ms/step - loss: 1.4756 - accuracy: 0.7478\n",
            "Epoch 73/100\n",
            "484/484 [==============================] - 5s 11ms/step - loss: 1.4418 - accuracy: 0.7556\n",
            "Epoch 74/100\n",
            "484/484 [==============================] - 5s 11ms/step - loss: 1.4255 - accuracy: 0.7571\n",
            "Epoch 75/100\n",
            "484/484 [==============================] - 5s 11ms/step - loss: 1.4212 - accuracy: 0.7550\n",
            "Epoch 76/100\n",
            "484/484 [==============================] - 5s 11ms/step - loss: 1.4303 - accuracy: 0.7561\n",
            "Epoch 77/100\n",
            "484/484 [==============================] - 5s 11ms/step - loss: 1.3692 - accuracy: 0.7666\n",
            "Epoch 78/100\n",
            "484/484 [==============================] - 5s 11ms/step - loss: 1.3517 - accuracy: 0.7692\n",
            "Epoch 79/100\n",
            "484/484 [==============================] - 5s 11ms/step - loss: 1.3307 - accuracy: 0.7751\n",
            "Epoch 80/100\n",
            "484/484 [==============================] - 5s 11ms/step - loss: 1.3333 - accuracy: 0.7705\n",
            "Epoch 81/100\n",
            "484/484 [==============================] - 5s 11ms/step - loss: 1.3171 - accuracy: 0.7793\n",
            "Epoch 82/100\n",
            "484/484 [==============================] - 5s 11ms/step - loss: 1.2953 - accuracy: 0.7835\n",
            "Epoch 83/100\n",
            "484/484 [==============================] - 5s 11ms/step - loss: 1.2935 - accuracy: 0.7810\n",
            "Epoch 84/100\n",
            "484/484 [==============================] - 5s 11ms/step - loss: 1.2726 - accuracy: 0.7835\n",
            "Epoch 85/100\n",
            "484/484 [==============================] - 5s 11ms/step - loss: 1.2511 - accuracy: 0.7909\n",
            "Epoch 86/100\n",
            "484/484 [==============================] - 5s 11ms/step - loss: 1.2181 - accuracy: 0.7955\n",
            "Epoch 87/100\n",
            "484/484 [==============================] - 5s 11ms/step - loss: 1.2391 - accuracy: 0.7911\n",
            "Epoch 88/100\n",
            "484/484 [==============================] - 5s 11ms/step - loss: 1.2173 - accuracy: 0.7943\n",
            "Epoch 89/100\n",
            "484/484 [==============================] - 5s 11ms/step - loss: 1.2118 - accuracy: 0.7939\n",
            "Epoch 90/100\n",
            "484/484 [==============================] - 5s 11ms/step - loss: 1.2116 - accuracy: 0.7937\n",
            "Epoch 91/100\n",
            "484/484 [==============================] - 5s 11ms/step - loss: 1.1676 - accuracy: 0.8030\n",
            "Epoch 92/100\n",
            "484/484 [==============================] - 5s 11ms/step - loss: 1.1815 - accuracy: 0.7994\n",
            "Epoch 93/100\n",
            "484/484 [==============================] - 5s 11ms/step - loss: 1.1646 - accuracy: 0.8019\n",
            "Epoch 94/100\n",
            "484/484 [==============================] - 5s 11ms/step - loss: 1.1507 - accuracy: 0.8047\n",
            "Epoch 95/100\n",
            "484/484 [==============================] - 5s 11ms/step - loss: 1.1432 - accuracy: 0.8067\n",
            "Epoch 96/100\n",
            "484/484 [==============================] - 5s 11ms/step - loss: 1.1430 - accuracy: 0.8060\n",
            "Epoch 97/100\n",
            "484/484 [==============================] - 5s 11ms/step - loss: 1.1455 - accuracy: 0.8010\n",
            "Epoch 98/100\n",
            "484/484 [==============================] - 5s 11ms/step - loss: 1.1135 - accuracy: 0.8097\n",
            "Epoch 99/100\n",
            "484/484 [==============================] - 5s 11ms/step - loss: 1.0890 - accuracy: 0.8102\n",
            "Epoch 100/100\n",
            "484/484 [==============================] - 5s 11ms/step - loss: 1.1128 - accuracy: 0.8082\n"
          ],
          "name": "stdout"
        }
      ]
    },
    {
      "cell_type": "code",
      "metadata": {
        "colab": {
          "base_uri": "https://localhost:8080/",
          "height": 545
        },
        "id": "oOMCnMAQ7VfW",
        "outputId": "75ed6df7-8053-436c-a865-56d28f4d7ff9"
      },
      "source": [
        "import matplotlib.pyplot as plt\r\n",
        "acc = history.history['accuracy']\r\n",
        "loss = history.history['loss']\r\n",
        "\r\n",
        "epochs = range(len(acc))\r\n",
        "\r\n",
        "plt.plot(epochs, acc, 'b', label='Training accuracy')\r\n",
        "plt.title('Training accuracy')\r\n",
        "\r\n",
        "plt.figure()\r\n",
        "\r\n",
        "plt.plot(epochs, loss, 'b', label='Training Loss')\r\n",
        "plt.title('Training loss')\r\n",
        "plt.legend()\r\n",
        "\r\n",
        "plt.show()"
      ],
      "execution_count": 5,
      "outputs": [
        {
          "output_type": "display_data",
          "data": {
            "image/png": "[encoded data removed]",
            "text/plain": [
              "<Figure size 432x288 with 1 Axes>"
            ]
          },
          "metadata": {
            "tags": [],
            "needs_background": "light"
          }
        },
        {
          "output_type": "display_data",
          "data": {
            "image/png": "[encoded data removed]",
            "text/plain": [
              "<Figure size 432x288 with 1 Axes>"
            ]
          },
          "metadata": {
            "tags": [],
            "needs_background": "light"
          }
        }
      ]
    },
    {
      "cell_type": "code",
      "metadata": {
        "colab": {
          "base_uri": "https://localhost:8080/"
        },
        "id": "-eAde3lL7ZTz",
        "outputId": "e800f6cf-3fba-4df7-f3ce-78df6cb31ed3"
      },
      "source": [
        "seed_text = \"We know what we are but know not what we maybe\"\r\n",
        "next_words = 100\r\n",
        "  \r\n",
        "for _ in range(next_words):\r\n",
        "\ttoken_list = tokenizer.texts_to_sequences([seed_text])[0]\r\n",
        "\ttoken_list = pad_sequences([token_list], maxlen=max_sequence_len-1, padding='pre')\r\n",
        "\tpredicted = model.predict_classes(token_list, verbose=0)\r\n",
        "\toutput_word = \"\"\r\n",
        "\tfor word, index in tokenizer.word_index.items():\r\n",
        "\t\tif index == predicted:\r\n",
        "\t\t\toutput_word = word\r\n",
        "\t\t\tbreak\r\n",
        "\tseed_text += \" \" + output_word\r\n",
        "print(seed_text)"
      ],
      "execution_count": 13,
      "outputs": [
        {
          "output_type": "stream",
          "text": [
            "/usr/local/lib/python3.6/dist-packages/tensorflow/python/keras/engine/sequential.py:450: UserWarning: `model.predict_classes()` is deprecated and will be removed after 2021-01-01. Please use instead:* `np.argmax(model.predict(x), axis=-1)`,   if your model does multi-class classification   (e.g. if it uses a `softmax` last-layer activation).* `(model.predict(x) > 0.5).astype(\"int32\")`,   if your model does binary classification   (e.g. if it uses a `sigmoid` last-layer activation).\n",
            "  warnings.warn('`model.predict_classes()` is deprecated and '\n"
          ],
          "name": "stderr"
        },
        {
          "output_type": "stream",
          "text": [
            "We know what we are but know not what we maybe grow taken taken bearing hide eyes makes take you you doth show you can fear to give hide eye of me best ' doth store often made best commend blot to things same end twain weeds bright kind kind kind and spent deeds on foes face twain ' die last on thee hence esteem'd loving blot to be change give shame another pride decay still her face in high of thee bring men more bright spent last so men kind kind and true account day here unseen to crave bow bow at but mine eye live ' away in nature's\n"
          ],
          "name": "stdout"
        }
      ]
    }
  ]
}
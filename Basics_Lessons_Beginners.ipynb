{
  "nbformat": 4,
  "nbformat_minor": 0,
  "metadata": {
    "colab": {
      "name": "Untitled0.ipynb",
      "provenance": [],
      "authorship_tag": "ABX9TyOq1eicqcHw6jvDiS+BF3wZ",
      "include_colab_link": true
    },
    "kernelspec": {
      "name": "python3",
      "display_name": "Python 3"
    }
  },
  "cells": [
    {
      "cell_type": "markdown",
      "metadata": {
        "id": "view-in-github",
        "colab_type": "text"
      },
      "source": [
        "<a href=\"https://colab.research.google.com/github/deathstar1/Machine-Learning-Notebooks/blob/add-license-1/Basics_Lessons_Beginners.ipynb\" target=\"_parent\"><img src=\"https://colab.research.google.com/assets/colab-badge.svg\" alt=\"Open In Colab\"/></a>"
      ]
    },
    {
      "cell_type": "markdown",
      "metadata": {
        "id": "lbRKkTtcsiXE"
      },
      "source": [
        "# Basics for Beginners"
      ]
    },
    {
      "cell_type": "code",
      "metadata": {
        "id": "jitHcSXmhK1K"
      },
      "source": [
        "import numpy as np\r\n",
        "\r\n",
        "forecasts = np.array([1.0 ,0.6 , -1.3 ,  1.7])\r\n",
        "actuals = np.array([1.0, 0.5,  -1.5 , 2.0])"
      ],
      "execution_count": 19,
      "outputs": []
    },
    {
      "cell_type": "code",
      "metadata": {
        "colab": {
          "base_uri": "https://localhost:8080/"
        },
        "id": "sZJhE_9Nil_E",
        "outputId": "07af91ab-7190-496f-aa48-9e3cc0148b04"
      },
      "source": [
        "print(forecasts -actuals)\r\n",
        "errors = forecasts - actuals"
      ],
      "execution_count": 20,
      "outputs": [
        {
          "output_type": "stream",
          "text": [
            "[ 0.   0.1  0.2 -0.3]\n"
          ],
          "name": "stdout"
        }
      ]
    },
    {
      "cell_type": "markdown",
      "metadata": {
        "id": "L8W_4POrrahJ"
      },
      "source": [
        "# Simple techniques used in Data science is Root mean squared and Absolute mean etc. Let's look at mean squared."
      ]
    },
    {
      "cell_type": "markdown",
      "metadata": {
        "id": "LI0k9xVgrxfN"
      },
      "source": [
        "### First square the values"
      ]
    },
    {
      "cell_type": "code",
      "metadata": {
        "colab": {
          "base_uri": "https://localhost:8080/"
        },
        "id": "WieX1GHAplr7",
        "outputId": "7be41007-2078-41af-9ffe-800be2a2840c"
      },
      "source": [
        "squared = np.square(errors)\r\n",
        "print(squared)"
      ],
      "execution_count": 21,
      "outputs": [
        {
          "output_type": "stream",
          "text": [
            "[0.   0.01 0.04 0.09]\n"
          ],
          "name": "stdout"
        }
      ]
    },
    {
      "cell_type": "markdown",
      "metadata": {
        "id": "arwyCbZMr_KA"
      },
      "source": [
        "### Mean the squared values"
      ]
    },
    {
      "cell_type": "code",
      "metadata": {
        "colab": {
          "base_uri": "https://localhost:8080/"
        },
        "id": "1x3Zzrb7r-mY",
        "outputId": "9c823c3b-574b-4b33-d4e3-7b841784ca9b"
      },
      "source": [
        "mean_squared =  squared.mean()\r\n",
        "print(mean_squared)"
      ],
      "execution_count": 22,
      "outputs": [
        {
          "output_type": "stream",
          "text": [
            "0.035\n"
          ],
          "name": "stdout"
        }
      ]
    },
    {
      "cell_type": "markdown",
      "metadata": {
        "id": "eXmI6xKbsL1J"
      },
      "source": [
        "### Root squared mean value which is RMSE"
      ]
    },
    {
      "cell_type": "code",
      "metadata": {
        "colab": {
          "base_uri": "https://localhost:8080/"
        },
        "id": "XCTLT6M9sSr6",
        "outputId": "4b1af575-a39d-422f-bfcd-e7a6aaaad717"
      },
      "source": [
        "rmse = np.sqrt (mean_squared)\r\n",
        "print(rmse)"
      ],
      "execution_count": 23,
      "outputs": [
        {
          "output_type": "stream",
          "text": [
            "0.18708286933869708\n"
          ],
          "name": "stdout"
        }
      ]
    },
    {
      "cell_type": "markdown",
      "metadata": {
        "id": "pvLY5bEpuGkX"
      },
      "source": [
        "# Another technique is to get the mean of absolute values called Absolute mean error . You can use AME to not penalize your model with higher error values .In other words it is like a soft penalty."
      ]
    },
    {
      "cell_type": "code",
      "metadata": {
        "colab": {
          "base_uri": "https://localhost:8080/"
        },
        "id": "b9X1qu2ruJfi",
        "outputId": "872b1137-6906-4fe8-bd7d-35b2d393b437"
      },
      "source": [
        "absolutes = np.abs(errors)\r\n",
        "print(absolutes)"
      ],
      "execution_count": 27,
      "outputs": [
        {
          "output_type": "stream",
          "text": [
            "[0.  0.1 0.2 0.3]\n"
          ],
          "name": "stdout"
        }
      ]
    },
    {
      "cell_type": "code",
      "metadata": {
        "colab": {
          "base_uri": "https://localhost:8080/"
        },
        "id": "FEJjWItfJOKR",
        "outputId": "1c624945-a708-4104-baa9-d16d8304024e"
      },
      "source": [
        "absolutes_mean = absolutes.mean()\r\n",
        "print(absolutes_mean)"
      ],
      "execution_count": 29,
      "outputs": [
        {
          "output_type": "stream",
          "text": [
            "0.15\n"
          ],
          "name": "stdout"
        }
      ]
    }
  ]
}
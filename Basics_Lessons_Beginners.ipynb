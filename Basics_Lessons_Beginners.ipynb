{
  "nbformat": 4,
  "nbformat_minor": 0,
  "metadata": {
    "colab": {
      "name": "Untitled0.ipynb",
      "provenance": [],
      "toc_visible": true,
      "authorship_tag": "ABX9TyOM2QTok4mcGncCRhnIreXI",
      "include_colab_link": true
    },
    "kernelspec": {
      "name": "python3",
      "display_name": "Python 3"
    }
  },
  "cells": [
    {
      "cell_type": "markdown",
      "metadata": {
        "id": "view-in-github",
        "colab_type": "text"
      },
      "source": [
        "<a href=\"https://colab.research.google.com/github/deathstar1/Machine-Learning-Notebooks/blob/add-license-1/Basics_Lessons_Beginners.ipynb\" target=\"_parent\"><img src=\"https://colab.research.google.com/assets/colab-badge.svg\" alt=\"Open In Colab\"/></a>"
      ]
    },
    {
      "cell_type": "markdown",
      "metadata": {
        "id": "lbRKkTtcsiXE"
      },
      "source": [
        "# Basics for Beginners"
      ]
    },
    {
      "cell_type": "code",
      "metadata": {
        "id": "jitHcSXmhK1K"
      },
      "source": [
        "import numpy as np\r\n",
        "\r\n",
        "forecasts = np.array([1.0 ,0.6 , -1.3 ,  1.7])\r\n",
        "actuals = np.array([1.0, 0.5,  -1.5 , 2.0])"
      ],
      "execution_count": 3,
      "outputs": []
    },
    {
      "cell_type": "code",
      "metadata": {
        "colab": {
          "base_uri": "https://localhost:8080/"
        },
        "id": "sZJhE_9Nil_E",
        "outputId": "ee5a22d3-7f3f-4a9a-8337-c4562f1adc8c"
      },
      "source": [
        "print(forecasts -actuals)\r\n",
        "errors = forecasts - actuals"
      ],
      "execution_count": 4,
      "outputs": [
        {
          "output_type": "stream",
          "text": [
            "[ 0.   0.1  0.2 -0.3]\n"
          ],
          "name": "stdout"
        }
      ]
    },
    {
      "cell_type": "markdown",
      "metadata": {
        "id": "L8W_4POrrahJ"
      },
      "source": [
        "# Simple techniques used in Data science is Root mean squared and Absolute mean etc. Let's look at mean squared."
      ]
    },
    {
      "cell_type": "markdown",
      "metadata": {
        "id": "LI0k9xVgrxfN"
      },
      "source": [
        "### First square the values"
      ]
    },
    {
      "cell_type": "code",
      "metadata": {
        "colab": {
          "base_uri": "https://localhost:8080/"
        },
        "id": "WieX1GHAplr7",
        "outputId": "fa232a9d-58c2-4065-9e9f-c2ae51b7f397"
      },
      "source": [
        "squared = np.square(errors)\r\n",
        "print(squared)"
      ],
      "execution_count": 5,
      "outputs": [
        {
          "output_type": "stream",
          "text": [
            "[0.   0.01 0.04 0.09]\n"
          ],
          "name": "stdout"
        }
      ]
    },
    {
      "cell_type": "markdown",
      "metadata": {
        "id": "arwyCbZMr_KA"
      },
      "source": [
        "### Mean the squared values"
      ]
    },
    {
      "cell_type": "code",
      "metadata": {
        "colab": {
          "base_uri": "https://localhost:8080/"
        },
        "id": "1x3Zzrb7r-mY",
        "outputId": "78bcdcdf-af7a-4320-f9f9-5f92ce3e76e4"
      },
      "source": [
        "mean_squared =  squared.mean()\r\n",
        "print(mean_squared)"
      ],
      "execution_count": 6,
      "outputs": [
        {
          "output_type": "stream",
          "text": [
            "0.035\n"
          ],
          "name": "stdout"
        }
      ]
    },
    {
      "cell_type": "markdown",
      "metadata": {
        "id": "eXmI6xKbsL1J"
      },
      "source": [
        "### Root squared mean value which is RMSE"
      ]
    },
    {
      "cell_type": "code",
      "metadata": {
        "colab": {
          "base_uri": "https://localhost:8080/"
        },
        "id": "XCTLT6M9sSr6",
        "outputId": "219a70c7-931b-4a1a-f812-e234ce32b11b"
      },
      "source": [
        "rmse = np.sqrt (mean_squared)\r\n",
        "print(rmse)"
      ],
      "execution_count": 7,
      "outputs": [
        {
          "output_type": "stream",
          "text": [
            "0.18708286933869708\n"
          ],
          "name": "stdout"
        }
      ]
    },
    {
      "cell_type": "markdown",
      "metadata": {
        "id": "pvLY5bEpuGkX"
      },
      "source": [
        "# Another technique is to get the mean of absolute values called Absolute mean error . You can use AME to not penalize your model with higher error values .In other words it is like a soft penalty."
      ]
    },
    {
      "cell_type": "code",
      "metadata": {
        "colab": {
          "base_uri": "https://localhost:8080/"
        },
        "id": "b9X1qu2ruJfi",
        "outputId": "cb1bbea9-4d59-459b-b569-3a11c51dd037"
      },
      "source": [
        "absolutes = np.abs(errors)\r\n",
        "print(absolutes)"
      ],
      "execution_count": 8,
      "outputs": [
        {
          "output_type": "stream",
          "text": [
            "[0.  0.1 0.2 0.3]\n"
          ],
          "name": "stdout"
        }
      ]
    },
    {
      "cell_type": "code",
      "metadata": {
        "colab": {
          "base_uri": "https://localhost:8080/"
        },
        "id": "FEJjWItfJOKR",
        "outputId": "f5dd68c0-8aeb-4c36-93d7-7fc7208e6e89"
      },
      "source": [
        "absolutes_mean = absolutes.mean()\r\n",
        "print(absolutes_mean)"
      ],
      "execution_count": 9,
      "outputs": [
        {
          "output_type": "stream",
          "text": [
            "0.15\n"
          ],
          "name": "stdout"
        }
      ]
    },
    {
      "cell_type": "markdown",
      "metadata": {
        "id": "GEQ_Zm_W0ynk"
      },
      "source": [
        "### Some interesting facts - If you want to see if your model is biased to what degree or simple biased on one side then you could make a simple test of Mean biased error(MBE) ."
      ]
    },
    {
      "cell_type": "code",
      "metadata": {
        "colab": {
          "base_uri": "https://localhost:8080/"
        },
        "id": "WJUxZ9v5wQMl",
        "outputId": "3ffa1e75-99f9-42e5-e577-8b874ba49e5c"
      },
      "source": [
        "errors_mean = errors.mean()\r\n",
        "print(errors_mean)"
      ],
      "execution_count": 10,
      "outputs": [
        {
          "output_type": "stream",
          "text": [
            "-2.7755575615628914e-17\n"
          ],
          "name": "stdout"
        }
      ]
    },
    {
      "cell_type": "markdown",
      "metadata": {
        "id": "fJsXWG8r1GHa"
      },
      "source": [
        "### In Classification problems , during training we can use Hinge loss or also called as Multi class loss function. \r\n",
        "\r\n",
        "#### In this loss function, when we classify with some 'X' class and it turns out to be wrong when compared with training label , we penalise with loss . However, we not just penalize with some loss value but we penalize based on the values classified for all other classified classes. \r\n",
        " \r\n",
        "#### In simple words, we penalize even more for mis-classifying if other classes which were classified had 'stronger and wronger' classification.\r\n",
        "\r\n",
        "![image.png](data:image/png;base64,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)"
      ]
    },
    {
      "cell_type": "code",
      "metadata": {
        "colab": {
          "base_uri": "https://localhost:8080/"
        },
        "id": "CzZdRWS6zYJo",
        "outputId": "0c7f3566-9569-4133-a580-61588336c1b5"
      },
      "source": [
        "labels = [0 , 1 , 0 ] # consider these as some class labels 'Sunny' ,'Rainy' ,'Winter' \r\n",
        "x = [1.2 , -0.75 , 2.5 ]\r\n",
        "\r\n",
        "loss =  max(0 , 1.2 - (-0.75) + 1  ) +  max (0 ,  2.5 - (-0.75) + 1)\r\n",
        "print(loss)"
      ],
      "execution_count": 13,
      "outputs": [
        {
          "output_type": "stream",
          "text": [
            "7.2\n"
          ],
          "name": "stdout"
        }
      ]
    },
    {
      "cell_type": "markdown",
      "metadata": {
        "id": "EKArcvGB6H_o"
      },
      "source": [
        "If you see the loss is high because we along with penalizing we looked at how much other classes were strongly/wrongly classified."
      ]
    },
    {
      "cell_type": "markdown",
      "metadata": {
        "id": "Z2iqe9sthEZy"
      },
      "source": [
        "### Cross-Entropy Loss\r\n",
        "In thhis loss function loss is calculated by target multiplied with log of predicted values.\r\n",
        "\r\n",
        "![image.png](data:image/png;base64,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)"
      ]
    },
    {
      "cell_type": "code",
      "metadata": {
        "colab": {
          "base_uri": "https://localhost:8080/"
        },
        "id": "9sTL2vtthnkV",
        "outputId": "7d7dd25d-893f-4ab3-b4c8-05d95864ad16"
      },
      "source": [
        "predicted_values = np.array([[0.5,0.25,0.5,0.5],\r\n",
        "                        [0.04,0.03,0.0,0.6]])\r\n",
        "targets = [[0 ,0 , 0 ,1],\r\n",
        "           [0,0,0,1]]\r\n",
        "cel_loss =  -np.sum(np.sum(targets * np.log(predicted_values + 1e-10)))/4    \r\n",
        "\r\n",
        "print(cel_loss)"
      ],
      "execution_count": 15,
      "outputs": [
        {
          "output_type": "stream",
          "text": [
            "0.3009932009898173\n"
          ],
          "name": "stdout"
        }
      ]
    }
  ]
}
{
  "nbformat": 4,
  "nbformat_minor": 0,
  "metadata": {
    "colab": {
      "name": "utf-8''Exercise_4_Multi_class_classifier_Question-FINAL.ipynb",
      "provenance": [],
      "include_colab_link": true
    },
    "coursera": {
      "course_slug": "convolutional-neural-networks-tensorflow",
      "graded_item_id": "8mIh8",
      "launcher_item_id": "gg95t"
    },
    "kernelspec": {
      "display_name": "Python 3",
      "language": "python",
      "name": "python3"
    },
    "language_info": {
      "codemirror_mode": {
        "name": "ipython",
        "version": 3
      },
      "file_extension": ".py",
      "mimetype": "text/x-python",
      "name": "python",
      "nbconvert_exporter": "python",
      "pygments_lexer": "ipython3",
      "version": "3.6.8"
    }
  },
  "cells": [
    {
      "cell_type": "markdown",
      "metadata": {
        "id": "view-in-github",
        "colab_type": "text"
      },
      "source": [
        "<a href=\"https://colab.research.google.com/github/deathstar1/Exploration/blob/main/RockPaperScissors.ipynb\" target=\"_parent\"><img src=\"https://colab.research.google.com/assets/colab-badge.svg\" alt=\"Open In Colab\"/></a>"
      ]
    },
    {
      "cell_type": "code",
      "metadata": {
        "id": "wYtuKeK0dImp"
      },
      "source": [
        "\n",
        "\n",
        "import csv\n",
        "import numpy as np\n",
        "import tensorflow as tf\n",
        "from tensorflow.keras.preprocessing.image import ImageDataGenerator\n",
        "from os import getcwd"
      ],
      "execution_count": null,
      "outputs": []
    },
    {
      "cell_type": "code",
      "metadata": {
        "id": "4kxw-_rmcnVu",
        "outputId": "a86bf974-839a-4ce2-a9f8-de04d7c68d6d"
      },
      "source": [
        "def get_data(filename):\n",
        "  # You will need to write code that will read the file passed\n",
        "  # into this function. The first line contains the column headers\n",
        "  # so you should ignore it\n",
        "  # Each successive line contians 785 comma separated values between 0 and 255\n",
        "  # The first value is the label\n",
        "  # The rest are the pixel values for that picture\n",
        "  # The function will return 2 np.array types. One with all the labels\n",
        "  # One with all the images\n",
        "  #\n",
        "  # Tips: \n",
        "  # If you read a full line (as 'row') then row[0] has the label\n",
        "  # and row[1:785] has the 784 pixel values\n",
        "  # Take a look at np.array_split to turn the 784 pixels into 28x28\n",
        "  # You are reading in strings, but need the values to be floats\n",
        "  # Check out np.array().astype for a conversion\n",
        "    with open(filename) as training_file:\n",
        "        content = csv.reader(training_file , delimiter =',')\n",
        "        img = []\n",
        "        label = []\n",
        "        next(content, None)\n",
        "        \n",
        "        for line in content:\n",
        "            lab = line[0] \n",
        "            label.append(lab)\n",
        "            \n",
        "            data = line [1:]\n",
        "            data = np.array(data).reshape((28, 28))\n",
        "            img.append(data)\n",
        "        images = np.array(img).astype(float)\n",
        "        labels = np.array(label).astype(float)\n",
        "        return images ,labels\n",
        "      # Your code starts here\n",
        "      # Your code ends here\n",
        "path_sign_mnist_train = f\"{getcwd()}/../tmp2/sign_mnist_train.csv\"\n",
        "path_sign_mnist_test = f\"{getcwd()}/../tmp2/sign_mnist_test.csv\"\n",
        "content = get_data(path_sign_mnist_train)\n",
        "training_images, training_labels = get_data(path_sign_mnist_train)\n",
        "testing_images, testing_labels = get_data(path_sign_mnist_test)\n",
        "\n",
        "# Keep these\n",
        "print(training_images.shape)\n",
        "print(training_labels.shape)\n",
        "print(testing_images.shape)\n",
        "print(testing_labels.shape)\n",
        "\n",
        "# Their output should be:\n",
        "# (27455, 28, 28)\n",
        "# (27455,)\n",
        "# (7172, 28, 28)\n",
        "# (7172,)"
      ],
      "execution_count": null,
      "outputs": [
        {
          "output_type": "stream",
          "text": [
            "(27455, 28, 28)\n",
            "(27455,)\n",
            "(7172, 28, 28)\n",
            "(7172,)\n"
          ],
          "name": "stdout"
        }
      ]
    },
    {
      "cell_type": "code",
      "metadata": {
        "id": "awoqRpyZdQkD",
        "outputId": "367e750d-7e9e-447f-aa0c-25426ddd644b"
      },
      "source": [
        "# In this section you will have to add another dimension to the data\n",
        "# So, for example, if your array is (10000, 28, 28)\n",
        "# You will need to make it (10000, 28, 28, 1)\n",
        "# Hint: np.expand_dims\n",
        "\n",
        "training_images = np.expand_dims(training_images , axis = 3)\n",
        "testing_images =  np.expand_dims(testing_images , axis = 3)\n",
        "\n",
        "# Create an ImageDataGenerator and do Image Augmentation\n",
        "train_datagen = ImageDataGenerator(\n",
        "    rescale=1. / 255,\n",
        "    rotation_range=40,\n",
        "    width_shift_range=0.2,\n",
        "    height_shift_range=0.2,\n",
        "    shear_range=0.2,\n",
        "    zoom_range=0.2,\n",
        "    horizontal_flip=True,\n",
        "    fill_mode='nearest'\n",
        "    )\n",
        "\n",
        "validation_datagen = ImageDataGenerator(\n",
        "    rescale=1 / 255)\n",
        "    \n",
        "# Keep These\n",
        "print(training_images.shape)\n",
        "print(testing_images.shape)\n",
        "    \n",
        "# Their output should be:\n",
        "# (27455, 28, 28, 1)\n",
        "# (7172, 28, 28, 1)"
      ],
      "execution_count": null,
      "outputs": [
        {
          "output_type": "stream",
          "text": [
            "(27455, 28, 28, 1)\n",
            "(7172, 28, 28, 1)\n"
          ],
          "name": "stdout"
        }
      ]
    },
    {
      "cell_type": "code",
      "metadata": {
        "id": "Rmb7S32cgRqS",
        "outputId": "8e1ba995-dad5-4906-b12c-a76db127e072"
      },
      "source": [
        "# Define the model\n",
        "# Use no more than 2 Conv2D and 2 MaxPooling2D\n",
        "model = tf.keras.models.Sequential([\n",
        "    tf.keras.layers.Conv2D(32 , (3,3) , activation = 'relu' , input_shape=(28,28,1)),\n",
        "    tf.keras.layers.MaxPooling2D(2,2),\n",
        "    tf.keras.layers.Conv2D(32 , (3,3) , activation = 'relu' ),\n",
        "    tf.keras.layers.MaxPooling2D(2,2),\n",
        "    tf.keras.layers.Flatten(),\n",
        "    tf.keras.layers.Dense(512, activation='relu'),\n",
        "    tf.keras.layers.Dense(26, activation='softmax')]\n",
        "    # Your Code Here\n",
        "    )\n",
        "\n",
        "# Compile Model. \n",
        "model.compile(optimizer = 'adam' , loss = 'sparse_categorical_crossentropy' , metrics = ['accuracy'])\n",
        "# Configure generators\n",
        "train_gen = train_datagen.flow(\n",
        "    training_images,\n",
        "    training_labels,\n",
        "    batch_size=64\n",
        ")\n",
        "\n",
        "val_gen = validation_datagen.flow(\n",
        "    testing_images,\n",
        "    testing_labels,\n",
        "    batch_size=64\n",
        ")\n",
        "# Train the Model\n",
        "history = model.fit_generator(train_gen, validation_data = val_gen , epochs = 15 )\n",
        "\n",
        "model.evaluate(testing_images, testing_labels)"
      ],
      "execution_count": null,
      "outputs": [
        {
          "output_type": "stream",
          "text": [
            "Epoch 1/20\n",
            "429/429 [==============================] - 35s 82ms/step - loss: 2.7934 - accuracy: 0.1544 - val_loss: 2.1367 - val_accuracy: 0.2772\n",
            "Epoch 2/20\n",
            "429/429 [==============================] - 35s 83ms/step - loss: 2.1423 - accuracy: 0.3279 - val_loss: 1.6117 - val_accuracy: 0.4198\n",
            "Epoch 3/20\n",
            "429/429 [==============================] - 33s 77ms/step - loss: 1.7919 - accuracy: 0.4295 - val_loss: 1.2841 - val_accuracy: 0.5690\n",
            "Epoch 4/20\n",
            "429/429 [==============================] - 35s 81ms/step - loss: 1.4875 - accuracy: 0.5212 - val_loss: 0.8723 - val_accuracy: 0.7005\n",
            "Epoch 5/20\n",
            "429/429 [==============================] - 34s 78ms/step - loss: 1.2789 - accuracy: 0.5836 - val_loss: 0.8308 - val_accuracy: 0.7151\n",
            "Epoch 6/20\n",
            "429/429 [==============================] - 34s 79ms/step - loss: 1.1302 - accuracy: 0.6304 - val_loss: 0.8025 - val_accuracy: 0.7105\n",
            "Epoch 7/20\n",
            "429/429 [==============================] - 34s 78ms/step - loss: 1.0018 - accuracy: 0.6693 - val_loss: 0.8342 - val_accuracy: 0.7133\n",
            "Epoch 8/20\n",
            "429/429 [==============================] - 34s 79ms/step - loss: 0.9075 - accuracy: 0.7010 - val_loss: 0.7040 - val_accuracy: 0.7591\n",
            "Epoch 9/20\n",
            "429/429 [==============================] - 34s 79ms/step - loss: 0.8208 - accuracy: 0.7293 - val_loss: 0.5104 - val_accuracy: 0.8165\n",
            "Epoch 10/20\n",
            "429/429 [==============================] - 35s 81ms/step - loss: 0.7750 - accuracy: 0.7467 - val_loss: 0.6013 - val_accuracy: 0.8002\n",
            "Epoch 11/20\n",
            "429/429 [==============================] - 33s 77ms/step - loss: 0.7115 - accuracy: 0.7665 - val_loss: 0.4109 - val_accuracy: 0.8484\n",
            "Epoch 12/20\n",
            "429/429 [==============================] - 33s 78ms/step - loss: 0.6657 - accuracy: 0.7828 - val_loss: 0.4678 - val_accuracy: 0.8473\n",
            "Epoch 13/20\n",
            "429/429 [==============================] - 33s 78ms/step - loss: 0.6168 - accuracy: 0.7960 - val_loss: 0.4904 - val_accuracy: 0.8187\n",
            "Epoch 14/20\n",
            "429/429 [==============================] - 34s 80ms/step - loss: 0.5886 - accuracy: 0.8038 - val_loss: 0.4196 - val_accuracy: 0.8575\n",
            "Epoch 15/20\n",
            "429/429 [==============================] - 34s 79ms/step - loss: 0.5379 - accuracy: 0.8253 - val_loss: 0.3002 - val_accuracy: 0.9034\n",
            "Epoch 16/20\n",
            "429/429 [==============================] - 35s 83ms/step - loss: 0.5243 - accuracy: 0.8235 - val_loss: 0.3198 - val_accuracy: 0.8880\n",
            "Epoch 17/20\n",
            "429/429 [==============================] - 33s 77ms/step - loss: 0.4939 - accuracy: 0.8363 - val_loss: 0.2429 - val_accuracy: 0.9320\n",
            "Epoch 18/20\n",
            "429/429 [==============================] - 33s 78ms/step - loss: 0.4759 - accuracy: 0.8414 - val_loss: 0.2427 - val_accuracy: 0.9251\n",
            "Epoch 19/20\n",
            "429/429 [==============================] - 33s 77ms/step - loss: 0.4684 - accuracy: 0.8442 - val_loss: 0.2776 - val_accuracy: 0.9023\n",
            "Epoch 20/20\n",
            "429/429 [==============================] - 35s 81ms/step - loss: 0.4483 - accuracy: 0.8520 - val_loss: 0.1814 - val_accuracy: 0.9433\n"
          ],
          "name": "stdout"
        },
        {
          "output_type": "execute_result",
          "data": {
            "text/plain": [
              "[215.97283234306374, 0.6603458]"
            ]
          },
          "metadata": {
            "tags": []
          },
          "execution_count": 19
        }
      ]
    },
    {
      "cell_type": "code",
      "metadata": {
        "id": "_Q3Zpr46dsij",
        "outputId": "830bd4f2-ff8a-4301-a91c-5c66e67b37ba"
      },
      "source": [
        "# Plot the chart for accuracy and loss on both training and validation\n",
        "%matplotlib inline\n",
        "import matplotlib.pyplot as plt\n",
        "acc = history.history['accuracy']\n",
        "val_acc = history.history['val_accuracy']\n",
        "loss = history.history['loss']\n",
        "val_loss = history.history['val_loss']\n",
        "\n",
        "epochs = range(len(acc))\n",
        "\n",
        "plt.plot(epochs, acc, 'r', label='Training accuracy')\n",
        "plt.plot(epochs, val_acc, 'b', label='Validation accuracy')\n",
        "plt.title('Training and validation accuracy')\n",
        "plt.legend()\n",
        "plt.figure()\n",
        "\n",
        "plt.plot(epochs, loss, 'r', label='Training Loss')\n",
        "plt.plot(epochs, val_loss, 'b', label='Validation Loss')\n",
        "plt.title('Training and validation loss')\n",
        "plt.legend()\n",
        "\n",
        "plt.show()"
      ],
      "execution_count": null,
      "outputs": [
        {
          "output_type": "display_data",
          "data": {
            "image/png": "[encoded data removed]",
            "text/plain": [
              "<Figure size 432x288 with 1 Axes>"
            ]
          },
          "metadata": {
            "tags": [],
            "needs_background": "light"
          }
        },
        {
          "output_type": "display_data",
          "data": {
            "image/png": "[encoded data removed]",
            "text/plain": [
              "<Figure size 432x288 with 1 Axes>"
            ]
          },
          "metadata": {
            "tags": [],
            "needs_background": "light"
          }
        }
      ]
    },
    {
      "cell_type": "markdown",
      "metadata": {
        "id": "iaIpfd9tzKAA"
      },
      "source": [
        "# Submission Instructions"
      ]
    },
    {
      "cell_type": "code",
      "metadata": {
        "id": "AEFo5fNFzKAC"
      },
      "source": [
        "# Now click the 'Submit Assignment' button above."
      ],
      "execution_count": null,
      "outputs": []
    },
    {
      "cell_type": "markdown",
      "metadata": {
        "id": "jh5ozW15zKAH"
      },
      "source": [
        "# When you're done or would like to take a break, please run the two cells below to save your work and close the Notebook. This will free up resources for your fellow learners. "
      ]
    },
    {
      "cell_type": "code",
      "metadata": {
        "id": "3md4cMxizKAI"
      },
      "source": [
        "%%javascript\n",
        "<!-- Save the notebook -->\n",
        "IPython.notebook.save_checkpoint();"
      ],
      "execution_count": null,
      "outputs": []
    },
    {
      "cell_type": "code",
      "metadata": {
        "id": "WU9HefTdzKAN"
      },
      "source": [
        "%%javascript\n",
        "IPython.notebook.session.delete();\n",
        "window.onbeforeunload = null\n",
        "setTimeout(function() { window.close(); }, 1000);"
      ],
      "execution_count": null,
      "outputs": []
    }
  ]
}